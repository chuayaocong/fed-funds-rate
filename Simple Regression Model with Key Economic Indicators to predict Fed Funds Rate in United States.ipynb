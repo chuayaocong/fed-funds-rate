{
 "cells": [
  {
   "cell_type": "markdown",
   "id": "31c95956",
   "metadata": {},
   "source": [
    "# Simple Regression Model with Key Economic Indicators to predict Fed Funds Rate in United States"
   ]
  },
  {
   "cell_type": "code",
   "execution_count": 11,
   "id": "c2367b83",
   "metadata": {},
   "outputs": [],
   "source": [
    "import pandas as pd\n",
    "import seaborn as sns\n",
    "import matplotlib.pyplot as plt\n",
    "from sklearn.linear_model import LinearRegression\n",
    "from sklearn import metrics\n",
    "from sklearn.model_selection import train_test_split\n",
    "import numpy as np"
   ]
  },
  {
   "cell_type": "markdown",
   "id": "96d9845b",
   "metadata": {},
   "source": [
    "This script was written in June 2022, using the latest dataset downloaded from FRED (Federal Reserve Economic Data website). The links are provided in the cell below.\n",
    "\n",
    "Backdrop:\n",
    "In relation to the present macroeconomic climate where inflation is at a 40 year high (8.6% from figures just released), due to both external (Ukraine war, China COVID lockdowns) and internal factors (robust US economy with generous monetary policy from Fed), it would be useful to examine how macro factors in the United States affect the Fed's decision to increase/decrease interest rates. It has been repeatedly mentioned by the Fed Chairman Jerome Powell in press conferences that the committee adopts a data-driven and empirical approach in determining the frequency and magnitude of interest rate changes. The recent hawkish shift in Fed policy is due to inflation running at a 40 year high which threatens to derail the US economy and has a profound impact on global economies. The Fed has repeatedly mentioned it is committed to fighting high inflation by raising interest rates from post pandemic lows to an appropriate level to taper demand while supply shortages are expected to remain elevated for some time.\n",
    "\n",
    "This program seeks to explore the relationship between the Effective Fed Funds Rate (target variable) and the most common parameters the Fed uses to justify their rate hikes/drop decisions when communicating to public, namely personal consumption expenditures inflation, real gross domestic production growth, and unemployment rate (predictor variables). We will predict the Theoretical Fed Funds Rates based on the predictor variables and compare that with the current interest rates, to have a general sensing of how far behind the Fed is lagging in their interest rate decision."
   ]
  },
  {
   "cell_type": "code",
   "execution_count": 12,
   "id": "ba352681",
   "metadata": {},
   "outputs": [],
   "source": [
    "# CSV files are taken directly from FRED, Short for Federal Reserve Economic Data, \n",
    "# FRED is an online database consisting of hundreds of thousands of economic data time series from scores of national, international, public, and private sources\n",
    "# https://fred.stlouisfed.org/graph/?g=LOaq\n",
    "# https://fred.stlouisfed.org/graph/?g=LOaz\n",
    "# https://fred.stlouisfed.org/graph/?g=LObH\n",
    "# https://fred.stlouisfed.org/graph/?g=LOaR"
   ]
  },
  {
   "cell_type": "markdown",
   "id": "daf99f6f",
   "metadata": {},
   "source": [
    "## Preprocessing data"
   ]
  },
  {
   "cell_type": "code",
   "execution_count": 39,
   "id": "65bc485d",
   "metadata": {},
   "outputs": [
    {
     "data": {
      "text/html": [
       "<div>\n",
       "<style scoped>\n",
       "    .dataframe tbody tr th:only-of-type {\n",
       "        vertical-align: middle;\n",
       "    }\n",
       "\n",
       "    .dataframe tbody tr th {\n",
       "        vertical-align: top;\n",
       "    }\n",
       "\n",
       "    .dataframe thead th {\n",
       "        text-align: right;\n",
       "    }\n",
       "</style>\n",
       "<table border=\"1\" class=\"dataframe\">\n",
       "  <thead>\n",
       "    <tr style=\"text-align: right;\">\n",
       "      <th></th>\n",
       "      <th>DATE</th>\n",
       "      <th>GDPC1_PC1</th>\n",
       "    </tr>\n",
       "  </thead>\n",
       "  <tbody>\n",
       "    <tr>\n",
       "      <th>0</th>\n",
       "      <td>1948-01-01</td>\n",
       "      <td>2.60473</td>\n",
       "    </tr>\n",
       "    <tr>\n",
       "      <th>1</th>\n",
       "      <td>1948-04-01</td>\n",
       "      <td>4.57732</td>\n",
       "    </tr>\n",
       "    <tr>\n",
       "      <th>2</th>\n",
       "      <td>1948-07-01</td>\n",
       "      <td>5.39412</td>\n",
       "    </tr>\n",
       "    <tr>\n",
       "      <th>3</th>\n",
       "      <td>1948-10-01</td>\n",
       "      <td>3.88678</td>\n",
       "    </tr>\n",
       "    <tr>\n",
       "      <th>4</th>\n",
       "      <td>1949-01-01</td>\n",
       "      <td>0.93698</td>\n",
       "    </tr>\n",
       "    <tr>\n",
       "      <th>...</th>\n",
       "      <td>...</td>\n",
       "      <td>...</td>\n",
       "    </tr>\n",
       "    <tr>\n",
       "      <th>292</th>\n",
       "      <td>2021-01-01</td>\n",
       "      <td>0.54698</td>\n",
       "    </tr>\n",
       "    <tr>\n",
       "      <th>293</th>\n",
       "      <td>2021-04-01</td>\n",
       "      <td>12.22668</td>\n",
       "    </tr>\n",
       "    <tr>\n",
       "      <th>294</th>\n",
       "      <td>2021-07-01</td>\n",
       "      <td>4.94656</td>\n",
       "    </tr>\n",
       "    <tr>\n",
       "      <th>295</th>\n",
       "      <td>2021-10-01</td>\n",
       "      <td>5.53348</td>\n",
       "    </tr>\n",
       "    <tr>\n",
       "      <th>296</th>\n",
       "      <td>2022-01-01</td>\n",
       "      <td>3.54469</td>\n",
       "    </tr>\n",
       "  </tbody>\n",
       "</table>\n",
       "<p>297 rows × 2 columns</p>\n",
       "</div>"
      ],
      "text/plain": [
       "           DATE  GDPC1_PC1\n",
       "0    1948-01-01    2.60473\n",
       "1    1948-04-01    4.57732\n",
       "2    1948-07-01    5.39412\n",
       "3    1948-10-01    3.88678\n",
       "4    1949-01-01    0.93698\n",
       "..          ...        ...\n",
       "292  2021-01-01    0.54698\n",
       "293  2021-04-01   12.22668\n",
       "294  2021-07-01    4.94656\n",
       "295  2021-10-01    5.53348\n",
       "296  2022-01-01    3.54469\n",
       "\n",
       "[297 rows x 2 columns]"
      ]
     },
     "metadata": {},
     "output_type": "display_data"
    },
    {
     "data": {
      "text/html": [
       "<div>\n",
       "<style scoped>\n",
       "    .dataframe tbody tr th:only-of-type {\n",
       "        vertical-align: middle;\n",
       "    }\n",
       "\n",
       "    .dataframe tbody tr th {\n",
       "        vertical-align: top;\n",
       "    }\n",
       "\n",
       "    .dataframe thead th {\n",
       "        text-align: right;\n",
       "    }\n",
       "</style>\n",
       "<table border=\"1\" class=\"dataframe\">\n",
       "  <thead>\n",
       "    <tr style=\"text-align: right;\">\n",
       "      <th></th>\n",
       "      <th>DATE</th>\n",
       "      <th>UNRATE</th>\n",
       "    </tr>\n",
       "  </thead>\n",
       "  <tbody>\n",
       "    <tr>\n",
       "      <th>0</th>\n",
       "      <td>1948-01-01</td>\n",
       "      <td>3.7333333333333333</td>\n",
       "    </tr>\n",
       "    <tr>\n",
       "      <th>1</th>\n",
       "      <td>1948-04-01</td>\n",
       "      <td>3.6666666666666667</td>\n",
       "    </tr>\n",
       "    <tr>\n",
       "      <th>2</th>\n",
       "      <td>1948-07-01</td>\n",
       "      <td>3.7666666666666667</td>\n",
       "    </tr>\n",
       "    <tr>\n",
       "      <th>3</th>\n",
       "      <td>1948-10-01</td>\n",
       "      <td>3.8333333333333333</td>\n",
       "    </tr>\n",
       "    <tr>\n",
       "      <th>4</th>\n",
       "      <td>1949-01-01</td>\n",
       "      <td>4.6666666666666667</td>\n",
       "    </tr>\n",
       "    <tr>\n",
       "      <th>...</th>\n",
       "      <td>...</td>\n",
       "      <td>...</td>\n",
       "    </tr>\n",
       "    <tr>\n",
       "      <th>293</th>\n",
       "      <td>2021-04-01</td>\n",
       "      <td>5.9000000000000000</td>\n",
       "    </tr>\n",
       "    <tr>\n",
       "      <th>294</th>\n",
       "      <td>2021-07-01</td>\n",
       "      <td>5.1000000000000000</td>\n",
       "    </tr>\n",
       "    <tr>\n",
       "      <th>295</th>\n",
       "      <td>2021-10-01</td>\n",
       "      <td>4.2333333333333333</td>\n",
       "    </tr>\n",
       "    <tr>\n",
       "      <th>296</th>\n",
       "      <td>2022-01-01</td>\n",
       "      <td>3.8000000000000000</td>\n",
       "    </tr>\n",
       "    <tr>\n",
       "      <th>297</th>\n",
       "      <td>2022-04-01</td>\n",
       "      <td>.</td>\n",
       "    </tr>\n",
       "  </tbody>\n",
       "</table>\n",
       "<p>298 rows × 2 columns</p>\n",
       "</div>"
      ],
      "text/plain": [
       "           DATE              UNRATE\n",
       "0    1948-01-01  3.7333333333333333\n",
       "1    1948-04-01  3.6666666666666667\n",
       "2    1948-07-01  3.7666666666666667\n",
       "3    1948-10-01  3.8333333333333333\n",
       "4    1949-01-01  4.6666666666666667\n",
       "..          ...                 ...\n",
       "293  2021-04-01  5.9000000000000000\n",
       "294  2021-07-01  5.1000000000000000\n",
       "295  2021-10-01  4.2333333333333333\n",
       "296  2022-01-01  3.8000000000000000\n",
       "297  2022-04-01                   .\n",
       "\n",
       "[298 rows x 2 columns]"
      ]
     },
     "metadata": {},
     "output_type": "display_data"
    },
    {
     "data": {
      "text/html": [
       "<div>\n",
       "<style scoped>\n",
       "    .dataframe tbody tr th:only-of-type {\n",
       "        vertical-align: middle;\n",
       "    }\n",
       "\n",
       "    .dataframe tbody tr th {\n",
       "        vertical-align: top;\n",
       "    }\n",
       "\n",
       "    .dataframe thead th {\n",
       "        text-align: right;\n",
       "    }\n",
       "</style>\n",
       "<table border=\"1\" class=\"dataframe\">\n",
       "  <thead>\n",
       "    <tr style=\"text-align: right;\">\n",
       "      <th></th>\n",
       "      <th>DATE</th>\n",
       "      <th>PCEPI_PC1</th>\n",
       "    </tr>\n",
       "  </thead>\n",
       "  <tbody>\n",
       "    <tr>\n",
       "      <th>0</th>\n",
       "      <td>1960-01-01</td>\n",
       "      <td>1.69826</td>\n",
       "    </tr>\n",
       "    <tr>\n",
       "      <th>1</th>\n",
       "      <td>1960-04-01</td>\n",
       "      <td>1.81333</td>\n",
       "    </tr>\n",
       "    <tr>\n",
       "      <th>2</th>\n",
       "      <td>1960-07-01</td>\n",
       "      <td>1.58048</td>\n",
       "    </tr>\n",
       "    <tr>\n",
       "      <th>3</th>\n",
       "      <td>1960-10-01</td>\n",
       "      <td>1.47789</td>\n",
       "    </tr>\n",
       "    <tr>\n",
       "      <th>4</th>\n",
       "      <td>1961-01-01</td>\n",
       "      <td>1.53312</td>\n",
       "    </tr>\n",
       "    <tr>\n",
       "      <th>...</th>\n",
       "      <td>...</td>\n",
       "      <td>...</td>\n",
       "    </tr>\n",
       "    <tr>\n",
       "      <th>245</th>\n",
       "      <td>2021-04-01</td>\n",
       "      <td>3.86105</td>\n",
       "    </tr>\n",
       "    <tr>\n",
       "      <th>246</th>\n",
       "      <td>2021-07-01</td>\n",
       "      <td>4.27777</td>\n",
       "    </tr>\n",
       "    <tr>\n",
       "      <th>247</th>\n",
       "      <td>2021-10-01</td>\n",
       "      <td>5.49727</td>\n",
       "    </tr>\n",
       "    <tr>\n",
       "      <th>248</th>\n",
       "      <td>2022-01-01</td>\n",
       "      <td>6.28677</td>\n",
       "    </tr>\n",
       "    <tr>\n",
       "      <th>249</th>\n",
       "      <td>2022-04-01</td>\n",
       "      <td>.</td>\n",
       "    </tr>\n",
       "  </tbody>\n",
       "</table>\n",
       "<p>250 rows × 2 columns</p>\n",
       "</div>"
      ],
      "text/plain": [
       "           DATE PCEPI_PC1\n",
       "0    1960-01-01   1.69826\n",
       "1    1960-04-01   1.81333\n",
       "2    1960-07-01   1.58048\n",
       "3    1960-10-01   1.47789\n",
       "4    1961-01-01   1.53312\n",
       "..          ...       ...\n",
       "245  2021-04-01   3.86105\n",
       "246  2021-07-01   4.27777\n",
       "247  2021-10-01   5.49727\n",
       "248  2022-01-01   6.28677\n",
       "249  2022-04-01         .\n",
       "\n",
       "[250 rows x 2 columns]"
      ]
     },
     "metadata": {},
     "output_type": "display_data"
    },
    {
     "data": {
      "text/html": [
       "<div>\n",
       "<style scoped>\n",
       "    .dataframe tbody tr th:only-of-type {\n",
       "        vertical-align: middle;\n",
       "    }\n",
       "\n",
       "    .dataframe tbody tr th {\n",
       "        vertical-align: top;\n",
       "    }\n",
       "\n",
       "    .dataframe thead th {\n",
       "        text-align: right;\n",
       "    }\n",
       "</style>\n",
       "<table border=\"1\" class=\"dataframe\">\n",
       "  <thead>\n",
       "    <tr style=\"text-align: right;\">\n",
       "      <th></th>\n",
       "      <th>DATE</th>\n",
       "      <th>DFF</th>\n",
       "    </tr>\n",
       "  </thead>\n",
       "  <tbody>\n",
       "    <tr>\n",
       "      <th>0</th>\n",
       "      <td>1954-07-01</td>\n",
       "      <td>1.44</td>\n",
       "    </tr>\n",
       "    <tr>\n",
       "      <th>1</th>\n",
       "      <td>1954-10-01</td>\n",
       "      <td>1.44</td>\n",
       "    </tr>\n",
       "    <tr>\n",
       "      <th>2</th>\n",
       "      <td>1955-01-01</td>\n",
       "      <td>1.44</td>\n",
       "    </tr>\n",
       "    <tr>\n",
       "      <th>3</th>\n",
       "      <td>1955-04-01</td>\n",
       "      <td>1.69</td>\n",
       "    </tr>\n",
       "    <tr>\n",
       "      <th>4</th>\n",
       "      <td>1955-07-01</td>\n",
       "      <td>2.19</td>\n",
       "    </tr>\n",
       "    <tr>\n",
       "      <th>...</th>\n",
       "      <td>...</td>\n",
       "      <td>...</td>\n",
       "    </tr>\n",
       "    <tr>\n",
       "      <th>267</th>\n",
       "      <td>2021-04-01</td>\n",
       "      <td>0.08</td>\n",
       "    </tr>\n",
       "    <tr>\n",
       "      <th>268</th>\n",
       "      <td>2021-07-01</td>\n",
       "      <td>0.06</td>\n",
       "    </tr>\n",
       "    <tr>\n",
       "      <th>269</th>\n",
       "      <td>2021-10-01</td>\n",
       "      <td>0.07</td>\n",
       "    </tr>\n",
       "    <tr>\n",
       "      <th>270</th>\n",
       "      <td>2022-01-01</td>\n",
       "      <td>0.33</td>\n",
       "    </tr>\n",
       "    <tr>\n",
       "      <th>271</th>\n",
       "      <td>2022-04-01</td>\n",
       "      <td>0.83</td>\n",
       "    </tr>\n",
       "  </tbody>\n",
       "</table>\n",
       "<p>272 rows × 2 columns</p>\n",
       "</div>"
      ],
      "text/plain": [
       "           DATE   DFF\n",
       "0    1954-07-01  1.44\n",
       "1    1954-10-01  1.44\n",
       "2    1955-01-01  1.44\n",
       "3    1955-04-01  1.69\n",
       "4    1955-07-01  2.19\n",
       "..          ...   ...\n",
       "267  2021-04-01  0.08\n",
       "268  2021-07-01  0.06\n",
       "269  2021-10-01  0.07\n",
       "270  2022-01-01  0.33\n",
       "271  2022-04-01  0.83\n",
       "\n",
       "[272 rows x 2 columns]"
      ]
     },
     "metadata": {},
     "output_type": "display_data"
    }
   ],
   "source": [
    "# Reading in files ...\n",
    "real_gdp = pd.read_csv('Realgdp.csv')\n",
    "unemp = pd.read_csv('Unemp_rate.csv')\n",
    "pce = pd.read_csv('PCE.csv')\n",
    "fedfr = pd.read_csv('Fedfundsrate.csv')\n",
    "\n",
    "display(real_gdp)\n",
    "display(unemp)\n",
    "display(pce)\n",
    "display(fedfr)"
   ]
  },
  {
   "cell_type": "markdown",
   "id": "163698bb",
   "metadata": {},
   "source": [
    "### Exploratory Data Analysis"
   ]
  },
  {
   "cell_type": "code",
   "execution_count": 40,
   "id": "aaa78d62",
   "metadata": {},
   "outputs": [
    {
     "name": "stdout",
     "output_type": "stream",
     "text": [
      "<class 'pandas.core.frame.DataFrame'>\n",
      "Int64Index: 249 entries, 0 to 248\n",
      "Data columns (total 5 columns):\n",
      " #   Column             Non-Null Count  Dtype  \n",
      "---  ------             --------------  -----  \n",
      " 0   date               249 non-null    object \n",
      " 1   fedfundrate        249 non-null    float64\n",
      " 2   pce                249 non-null    float64\n",
      " 3   real_gdp           249 non-null    float64\n",
      " 4   unemployment_rate  249 non-null    float64\n",
      "dtypes: float64(4), object(1)\n",
      "memory usage: 11.7+ KB\n"
     ]
    },
    {
     "data": {
      "text/html": [
       "<div>\n",
       "<style scoped>\n",
       "    .dataframe tbody tr th:only-of-type {\n",
       "        vertical-align: middle;\n",
       "    }\n",
       "\n",
       "    .dataframe tbody tr th {\n",
       "        vertical-align: top;\n",
       "    }\n",
       "\n",
       "    .dataframe thead th {\n",
       "        text-align: right;\n",
       "    }\n",
       "</style>\n",
       "<table border=\"1\" class=\"dataframe\">\n",
       "  <thead>\n",
       "    <tr style=\"text-align: right;\">\n",
       "      <th></th>\n",
       "      <th>fedfundrate</th>\n",
       "      <th>pce</th>\n",
       "      <th>real_gdp</th>\n",
       "      <th>unemployment_rate</th>\n",
       "    </tr>\n",
       "  </thead>\n",
       "  <tbody>\n",
       "    <tr>\n",
       "      <th>count</th>\n",
       "      <td>249.000000</td>\n",
       "      <td>249.000000</td>\n",
       "      <td>249.000000</td>\n",
       "      <td>249.000000</td>\n",
       "    </tr>\n",
       "    <tr>\n",
       "      <th>mean</th>\n",
       "      <td>4.977791</td>\n",
       "      <td>3.261336</td>\n",
       "      <td>2.993748</td>\n",
       "      <td>5.981392</td>\n",
       "    </tr>\n",
       "    <tr>\n",
       "      <th>std</th>\n",
       "      <td>4.034908</td>\n",
       "      <td>2.417878</td>\n",
       "      <td>2.459866</td>\n",
       "      <td>1.665501</td>\n",
       "    </tr>\n",
       "    <tr>\n",
       "      <th>min</th>\n",
       "      <td>0.040000</td>\n",
       "      <td>-1.196590</td>\n",
       "      <td>-9.083740</td>\n",
       "      <td>3.400000</td>\n",
       "    </tr>\n",
       "    <tr>\n",
       "      <th>25%</th>\n",
       "      <td>1.910000</td>\n",
       "      <td>1.587940</td>\n",
       "      <td>1.768460</td>\n",
       "      <td>4.833333</td>\n",
       "    </tr>\n",
       "    <tr>\n",
       "      <th>50%</th>\n",
       "      <td>4.580000</td>\n",
       "      <td>2.513520</td>\n",
       "      <td>3.005890</td>\n",
       "      <td>5.700000</td>\n",
       "    </tr>\n",
       "    <tr>\n",
       "      <th>75%</th>\n",
       "      <td>6.830000</td>\n",
       "      <td>4.197810</td>\n",
       "      <td>4.367200</td>\n",
       "      <td>7.033333</td>\n",
       "    </tr>\n",
       "    <tr>\n",
       "      <th>max</th>\n",
       "      <td>22.000000</td>\n",
       "      <td>11.511190</td>\n",
       "      <td>12.226680</td>\n",
       "      <td>12.966667</td>\n",
       "    </tr>\n",
       "  </tbody>\n",
       "</table>\n",
       "</div>"
      ],
      "text/plain": [
       "       fedfundrate         pce    real_gdp  unemployment_rate\n",
       "count   249.000000  249.000000  249.000000         249.000000\n",
       "mean      4.977791    3.261336    2.993748           5.981392\n",
       "std       4.034908    2.417878    2.459866           1.665501\n",
       "min       0.040000   -1.196590   -9.083740           3.400000\n",
       "25%       1.910000    1.587940    1.768460           4.833333\n",
       "50%       4.580000    2.513520    3.005890           5.700000\n",
       "75%       6.830000    4.197810    4.367200           7.033333\n",
       "max      22.000000   11.511190   12.226680          12.966667"
      ]
     },
     "execution_count": 40,
     "metadata": {},
     "output_type": "execute_result"
    }
   ],
   "source": [
    "data.info()\n",
    "data.describe()"
   ]
  },
  {
   "cell_type": "code",
   "execution_count": 42,
   "id": "4233d614",
   "metadata": {},
   "outputs": [
    {
     "data": {
      "text/plain": [
       "date                 False\n",
       "fedfundrate          False\n",
       "pce                  False\n",
       "real_gdp             False\n",
       "unemployment_rate    False\n",
       "dtype: bool"
      ]
     },
     "execution_count": 42,
     "metadata": {},
     "output_type": "execute_result"
    }
   ],
   "source": [
    "data.isnull().any()"
   ]
  },
  {
   "cell_type": "markdown",
   "id": "a17298ab",
   "metadata": {},
   "source": [
    "From above, none of the cells have null values"
   ]
  },
  {
   "cell_type": "code",
   "execution_count": 43,
   "id": "ffa30958",
   "metadata": {},
   "outputs": [
    {
     "data": {
      "text/html": [
       "<div>\n",
       "<style scoped>\n",
       "    .dataframe tbody tr th:only-of-type {\n",
       "        vertical-align: middle;\n",
       "    }\n",
       "\n",
       "    .dataframe tbody tr th {\n",
       "        vertical-align: top;\n",
       "    }\n",
       "\n",
       "    .dataframe thead th {\n",
       "        text-align: right;\n",
       "    }\n",
       "</style>\n",
       "<table border=\"1\" class=\"dataframe\">\n",
       "  <thead>\n",
       "    <tr style=\"text-align: right;\">\n",
       "      <th></th>\n",
       "      <th>date</th>\n",
       "      <th>fedfundrate</th>\n",
       "      <th>pce</th>\n",
       "      <th>real_gdp</th>\n",
       "      <th>unemployment_rate</th>\n",
       "    </tr>\n",
       "  </thead>\n",
       "  <tbody>\n",
       "    <tr>\n",
       "      <th>0</th>\n",
       "      <td>1960-01-01</td>\n",
       "      <td>4.0</td>\n",
       "      <td>1.69826</td>\n",
       "      <td>4.92542</td>\n",
       "      <td>5.133333</td>\n",
       "    </tr>\n",
       "    <tr>\n",
       "      <th>1</th>\n",
       "      <td>1960-04-01</td>\n",
       "      <td>3.5</td>\n",
       "      <td>1.81333</td>\n",
       "      <td>2.05821</td>\n",
       "      <td>5.233333</td>\n",
       "    </tr>\n",
       "    <tr>\n",
       "      <th>2</th>\n",
       "      <td>1960-07-01</td>\n",
       "      <td>3.0</td>\n",
       "      <td>1.58048</td>\n",
       "      <td>2.48539</td>\n",
       "      <td>5.533333</td>\n",
       "    </tr>\n",
       "    <tr>\n",
       "      <th>3</th>\n",
       "      <td>1960-10-01</td>\n",
       "      <td>3.0</td>\n",
       "      <td>1.47789</td>\n",
       "      <td>0.88268</td>\n",
       "      <td>6.266667</td>\n",
       "    </tr>\n",
       "    <tr>\n",
       "      <th>4</th>\n",
       "      <td>1961-01-01</td>\n",
       "      <td>2.0</td>\n",
       "      <td>1.53312</td>\n",
       "      <td>-0.66913</td>\n",
       "      <td>6.800000</td>\n",
       "    </tr>\n",
       "  </tbody>\n",
       "</table>\n",
       "</div>"
      ],
      "text/plain": [
       "         date  fedfundrate      pce  real_gdp  unemployment_rate\n",
       "0  1960-01-01          4.0  1.69826   4.92542           5.133333\n",
       "1  1960-04-01          3.5  1.81333   2.05821           5.233333\n",
       "2  1960-07-01          3.0  1.58048   2.48539           5.533333\n",
       "3  1960-10-01          3.0  1.47789   0.88268           6.266667\n",
       "4  1961-01-01          2.0  1.53312  -0.66913           6.800000"
      ]
     },
     "execution_count": 43,
     "metadata": {},
     "output_type": "execute_result"
    }
   ],
   "source": [
    "# merging different csvs into 1 dataframe\n",
    "data = real_gdp.merge(unemp, how='left', left_on='DATE', right_on='DATE')\n",
    "data = pce.merge(data, how='left', left_on='DATE', right_on='DATE')\n",
    "data = fedfr.merge(data, how='right', left_on='DATE', right_on='DATE')\n",
    "\n",
    "# renaming columns, where \n",
    "# pce = personal consumption expenditures inflation,\n",
    "# real_gdp = real gross domestic production growth,\n",
    "# unemployment_rate = unemployment rate\n",
    "# and fedfundrate = effective federal funds rate\n",
    "\n",
    "data.rename(columns={'DATE':'date', 'PCEPI_PC1': 'pce', 'DFF': 'fedfundrate', 'GDPC1_PC1': 'real_gdp', 'UNRATE': 'unemployment_rate'}, inplace=True)\n",
    "data.drop(labels=249, inplace=True)    # dropping last row due to invalid values in real_gdp/unemployment_rate inherent from source data\n",
    "\n",
    "data['pce'] = data['pce'].astype(float)                             # convert to float for further data processing\n",
    "data['unemployment_rate'] = data['unemployment_rate'].astype(float) # convert to float for further data processing\n",
    "\n",
    "data.head()\n"
   ]
  },
  {
   "cell_type": "code",
   "execution_count": 18,
   "id": "e7d769ef",
   "metadata": {},
   "outputs": [
    {
     "data": {
      "text/plain": [
       "<seaborn.axisgrid.PairGrid at 0x17b628a1d30>"
      ]
     },
     "execution_count": 18,
     "metadata": {},
     "output_type": "execute_result"
    },
    {
     "data": {
      "image/png": "[encoded data removed]",
      "text/plain": [
       "<Figure size 864x360 with 3 Axes>"
      ]
     },
     "metadata": {
      "needs_background": "light"
     },
     "output_type": "display_data"
    }
   ],
   "source": [
    "# Some exploratory data visualization\n",
    "sns.pairplot(data=data, x_vars = [\"unemployment_rate\", \"pce\", \"real_gdp\"], y_vars = \"fedfundrate\", height=5, aspect=0.8, kind='reg')\n"
   ]
  },
  {
   "cell_type": "markdown",
   "id": "225b53f3",
   "metadata": {},
   "source": [
    "From above graphs, there appears to be little correlation between unemployment rate/real gdp versus Fed Funds Rate based on the spread of the data points versus the best fit line generated. \n",
    "\n",
    "PCE appears to be most correlated to Fed Funds Rate - when PCE increases, so does Fed Funds Rate. \n",
    "\n",
    "We will include all 3 predictors into the linear model to see how it affects the output."
   ]
  },
  {
   "cell_type": "markdown",
   "id": "a953b190",
   "metadata": {},
   "source": [
    "## Simple Linear Regression"
   ]
  },
  {
   "cell_type": "code",
   "execution_count": 19,
   "id": "a58d9054",
   "metadata": {},
   "outputs": [
    {
     "name": "stdout",
     "output_type": "stream",
     "text": [
      "LinearRegression()\n",
      "intercept:  -0.3140261983822201\n",
      "coefficients : [0.10679938 1.17323769 0.27613768]\n"
     ]
    }
   ],
   "source": [
    "X = data.loc[:, [\"unemployment_rate\", \"pce\", \"real_gdp\"]]                  \n",
    "y = data.loc[:, \"fedfundrate\"]\n",
    "\n",
    "# instantiate Linear Regression model\n",
    "lm = LinearRegression()"
   ]
  },
  {
   "cell_type": "code",
   "execution_count": 45,
   "id": "2e6794a6",
   "metadata": {},
   "outputs": [
    {
     "name": "stdout",
     "output_type": "stream",
     "text": [
      "     unemployment_rate      pce  real_gdp\n",
      "180           5.300000  2.62657   3.90862\n",
      "70            6.900000  6.76472   5.77090\n",
      "190           4.666667  2.17711   2.39856\n",
      "     unemployment_rate       pce  real_gdp\n",
      "56            5.133333   9.05166   0.63877\n",
      "127           7.100000   2.49994   1.16650\n",
      "60            8.266667  10.33008  -2.29905\n",
      "LinearRegression()\n",
      "intercept:  -0.20563210540030852\n",
      "coefficients : [0.08483166 1.29009159 0.1738911 ]\n",
      "\n",
      "Train MSE: 7.584733494879259\n",
      "Train RMSE: 2.754039486804657\n",
      "Train R2: 0.5357685937261293\n",
      "\n",
      "Test MSE: 10.296472115526932\n",
      "Test RMSE: 3.2088116360308425\n",
      "Test R2: 0.340819578626705\n"
     ]
    }
   ],
   "source": [
    "X_train, X_test, y_train, y_test = train_test_split(X, y, test_size = 0.2, random_state = 10)  \n",
    "print(X_train.head(3))\n",
    "print(X_test.head(3))\n",
    "\n",
    "lm.fit(X_train, y_train)                                  # to train the model\n",
    "print(lm)\n",
    "\n",
    "print(\"intercept: \",lm.intercept_)                         # print the coefficients\n",
    "print(\"coefficients :\", lm.coef_)\n",
    "print('')\n",
    "\n",
    "#Calculate MSE, RMSE, R2 scores for train set\n",
    "y_pred_train = lm.predict(X_train)\n",
    "print('Train MSE:', metrics.mean_squared_error(y_true=y_train, y_pred=y_pred_train))        #MSE, y_true are the real data points, y_pred is y_predict which is the regression line\n",
    "print('Train RMSE:', np.sqrt(metrics.mean_squared_error(y_true=y_train, y_pred=y_pred_train)))   #RMSE\n",
    "print('Train R2:', metrics.r2_score(y_train, y_pred_train))\n",
    "print('')\n",
    "\n",
    "#Calculate MSE, RMSE, R2 scores for test set\n",
    "y_pred_test = lm.predict(X_test)\n",
    "print('Test MSE:', metrics.mean_squared_error(y_true=y_test, y_pred=y_pred_test))        #MSE, y_true are the real data points, y_pred is y_predict which is the regression line\n",
    "print('Test RMSE:', np.sqrt(metrics.mean_squared_error(y_true=y_test, y_pred=y_pred_test)))   #RMSE\n",
    "print('Test R2:', metrics.r2_score(y_test, y_pred_test))\n"
   ]
  },
  {
   "cell_type": "markdown",
   "id": "8433d7f4",
   "metadata": {},
   "source": [
    "R2 train and test scores are around 0.34 to 0.53 due to the large spread of values. "
   ]
  },
  {
   "cell_type": "markdown",
   "id": "9e039c82",
   "metadata": {},
   "source": [
    "### Question: Based on the fitted model, using today's data, what would be the theoretical Fed funds rate?"
   ]
  },
  {
   "cell_type": "code",
   "execution_count": 50,
   "id": "46ae562b",
   "metadata": {},
   "outputs": [
    {
     "data": {
      "text/html": [
       "<div>\n",
       "<style scoped>\n",
       "    .dataframe tbody tr th:only-of-type {\n",
       "        vertical-align: middle;\n",
       "    }\n",
       "\n",
       "    .dataframe tbody tr th {\n",
       "        vertical-align: top;\n",
       "    }\n",
       "\n",
       "    .dataframe thead th {\n",
       "        text-align: right;\n",
       "    }\n",
       "</style>\n",
       "<table border=\"1\" class=\"dataframe\">\n",
       "  <thead>\n",
       "    <tr style=\"text-align: right;\">\n",
       "      <th></th>\n",
       "      <th>date</th>\n",
       "      <th>fedfundrate</th>\n",
       "      <th>pce</th>\n",
       "      <th>real_gdp</th>\n",
       "      <th>unemployment_rate</th>\n",
       "    </tr>\n",
       "  </thead>\n",
       "  <tbody>\n",
       "    <tr>\n",
       "      <th>244</th>\n",
       "      <td>2021-01-01</td>\n",
       "      <td>0.06</td>\n",
       "      <td>1.82982</td>\n",
       "      <td>0.54698</td>\n",
       "      <td>6.200000</td>\n",
       "    </tr>\n",
       "    <tr>\n",
       "      <th>245</th>\n",
       "      <td>2021-04-01</td>\n",
       "      <td>0.08</td>\n",
       "      <td>3.86105</td>\n",
       "      <td>12.22668</td>\n",
       "      <td>5.900000</td>\n",
       "    </tr>\n",
       "    <tr>\n",
       "      <th>246</th>\n",
       "      <td>2021-07-01</td>\n",
       "      <td>0.06</td>\n",
       "      <td>4.27777</td>\n",
       "      <td>4.94656</td>\n",
       "      <td>5.100000</td>\n",
       "    </tr>\n",
       "    <tr>\n",
       "      <th>247</th>\n",
       "      <td>2021-10-01</td>\n",
       "      <td>0.07</td>\n",
       "      <td>5.49727</td>\n",
       "      <td>5.53348</td>\n",
       "      <td>4.233333</td>\n",
       "    </tr>\n",
       "    <tr>\n",
       "      <th>248</th>\n",
       "      <td>2022-01-01</td>\n",
       "      <td>0.33</td>\n",
       "      <td>6.28677</td>\n",
       "      <td>3.54469</td>\n",
       "      <td>3.800000</td>\n",
       "    </tr>\n",
       "  </tbody>\n",
       "</table>\n",
       "</div>"
      ],
      "text/plain": [
       "           date  fedfundrate      pce  real_gdp  unemployment_rate\n",
       "244  2021-01-01         0.06  1.82982   0.54698           6.200000\n",
       "245  2021-04-01         0.08  3.86105  12.22668           5.900000\n",
       "246  2021-07-01         0.06  4.27777   4.94656           5.100000\n",
       "247  2021-10-01         0.07  5.49727   5.53348           4.233333\n",
       "248  2022-01-01         0.33  6.28677   3.54469           3.800000"
      ]
     },
     "execution_count": 50,
     "metadata": {},
     "output_type": "execute_result"
    }
   ],
   "source": [
    "data.tail()"
   ]
  },
  {
   "cell_type": "markdown",
   "id": "52ed43e2",
   "metadata": {},
   "source": [
    "We extract the predictor variables (unemployment rate, pce and real_gdp) for Jan 2022 and predict the Fed Funds Rate based on the linear model."
   ]
  },
  {
   "cell_type": "code",
   "execution_count": 60,
   "id": "32d5a6bb",
   "metadata": {},
   "outputs": [
    {
     "name": "stdout",
     "output_type": "stream",
     "text": [
      "Theoretical Fed Funds Rate: 8.843627336774643\n"
     ]
    }
   ],
   "source": [
    "# the figures below correspond to the \"unemployment_rate\", \"pce\", \"real_gdp\" of Jan 2022\n",
    "y_pred = lm.predict(np.array([3.8, 6.28677, 3.54469]).reshape(1,-1))\n",
    "print('Theoretical Fed Funds Rate:', y_pred[0])"
   ]
  },
  {
   "cell_type": "markdown",
   "id": "f8f68b3a",
   "metadata": {},
   "source": [
    "Based on our very simple model, the theoretical fed funds rate based on January 2022's macroeconomic figures is 8.8%! However, the Fed has only as of June 2022 raised interest rates to 1.5 to 1.75% and have much catching up to do. "
   ]
  },
  {
   "cell_type": "markdown",
   "id": "25637ea6",
   "metadata": {},
   "source": [
    "## Re-Run model using PCE as predictor"
   ]
  },
  {
   "cell_type": "markdown",
   "id": "918f4081",
   "metadata": {},
   "source": [
    "We will re-run the model using only PCE as the predictor just to see how the resutls vary."
   ]
  },
  {
   "cell_type": "code",
   "execution_count": 62,
   "id": "3a29972e",
   "metadata": {},
   "outputs": [
    {
     "name": "stdout",
     "output_type": "stream",
     "text": [
      "LinearRegression()\n",
      "intercept:  1.194594759873978\n",
      "coefficients : [1.16001447]\n"
     ]
    }
   ],
   "source": [
    "X = data.loc[:, \"pce\"]                  \n",
    "y = data.loc[:, \"fedfundrate\"]\n",
    "# display(X)\n",
    "\n",
    "X = np.array(X).reshape(-1,1)\n",
    "\n",
    "# instantiate and fit\n",
    "lm = LinearRegression()\n",
    "lm.fit(X, y)                                  # to train the model\n",
    "print(lm)\n",
    "\n",
    "# print the coefficients\n",
    "print(\"intercept: \",lm.intercept_)\n",
    "print(\"coefficients :\", lm.coef_)"
   ]
  },
  {
   "cell_type": "code",
   "execution_count": 64,
   "id": "fd9158e5",
   "metadata": {},
   "outputs": [
    {
     "name": "stdout",
     "output_type": "stream",
     "text": [
      "Theoretical Fed Funds Rate: 8.48733889925574\n"
     ]
    }
   ],
   "source": [
    "x = np.array([6.28677]).reshape(1,-1)\n",
    "y_pred = lm.predict(x)\n",
    "print('Theoretical Fed Funds Rate:', y_pred[0])\n"
   ]
  },
  {
   "cell_type": "markdown",
   "id": "696be999",
   "metadata": {},
   "source": [
    "The theoretical Fed Funds Rate is now 8.5%, not too far from the earlier predicted value of 8.8%. This is expected because PCE shows the highest correlation to Fed Funds Rate as compared to other predictors. "
   ]
  },
  {
   "cell_type": "markdown",
   "id": "55d6cb8f",
   "metadata": {},
   "source": [
    "### Conclusion"
   ]
  },
  {
   "cell_type": "markdown",
   "id": "80f4453b",
   "metadata": {},
   "source": [
    "In conclusion, it is clear from the above data that there is a significant disparity in current interest rates (1.5 to 1.75%) as compared to the theoretical values (~8%). Coincidentally, the theoretical interest rate also matches roughly the current inflation rate, which makes some sense given that the Fed had once raised interest rates to as high as 20% to fight inflation (in the double dights) in the 1980s. The Fed has also repeatedly telegraphed that they would be more aggressive in their monetary policy to combat inflation, which does not seem to be slowing down at the moment. The Fed now projects that the median interest rates would rise to about 3.8% in 2023. While still a far cry from our theoretical value, this may be due to the Fed adopting a wait and see approach for the economy to cool substantially after the planned series of rate hikes in 2022/2023 and easing of supply chain related factors in time to come. Nonetheless, while it can be hard to predict exactly where interest rates end up, I expect the trajectory of the interest rates to be on the uptrend and it would be prudent to take this into account when making any business / investment related decisions."
   ]
  }
 ],
 "metadata": {
  "kernelspec": {
   "display_name": "Python 3 (ipykernel)",
   "language": "python",
   "name": "python3"
  },
  "language_info": {
   "codemirror_mode": {
    "name": "ipython",
    "version": 3
   },
   "file_extension": ".py",
   "mimetype": "text/x-python",
   "name": "python",
   "nbconvert_exporter": "python",
   "pygments_lexer": "ipython3",
   "version": "3.9.7"
  }
 },
 "nbformat": 4,
 "nbformat_minor": 5
}
